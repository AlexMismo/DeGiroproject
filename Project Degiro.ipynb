{
 "cells": [
  {
   "cell_type": "code",
   "execution_count": 1,
   "metadata": {},
   "outputs": [],
   "source": [
    "import pandas as pd\n",
    "import datetime\n",
    "import numpy as np\n",
    "import math\n",
    "%matplotlib inline\n",
    "import matplotlib.pyplot as plt\n",
    "import matplotlib as mpl"
   ]
  },
  {
   "cell_type": "code",
   "execution_count": 2,
   "metadata": {},
   "outputs": [],
   "source": [
    "## Cambiar las siguientes fechas para que concidan con las descargadas.\n",
    "inicio = datetime.datetime(2019,2,6) \n",
    "fin    = datetime.datetime(2020,9,4)\n",
    "\n",
    "lista_fechas = [(inicio + datetime.timedelta(days=d)).strftime(\"%d %m %Y\")\n",
    "                    for d in range((fin - inicio).days + 1)]"
   ]
  },
  {
   "cell_type": "code",
   "execution_count": 3,
   "metadata": {
    "scrolled": true
   },
   "outputs": [
    {
     "ename": "FileNotFoundError",
     "evalue": "[Errno 2] File 07 02 2019 does not exist: '07 02 2019'",
     "output_type": "error",
     "traceback": [
      "\u001b[0;31m---------------------------------------------------------------------------\u001b[0m",
      "\u001b[0;31mFileNotFoundError\u001b[0m                         Traceback (most recent call last)",
      "\u001b[0;32m<ipython-input-3-3934c6c90000>\u001b[0m in \u001b[0;36m<module>\u001b[0;34m\u001b[0m\n\u001b[0;32m----> 1\u001b[0;31m \u001b[0mtodo\u001b[0m \u001b[0;34m=\u001b[0m \u001b[0mpd\u001b[0m\u001b[0;34m.\u001b[0m\u001b[0mread_csv\u001b[0m\u001b[0;34m(\u001b[0m\u001b[0mlista_fechas\u001b[0m\u001b[0;34m[\u001b[0m\u001b[0;36m1\u001b[0m\u001b[0;34m]\u001b[0m\u001b[0;34m)\u001b[0m\u001b[0;34m\u001b[0m\u001b[0;34m\u001b[0m\u001b[0m\n\u001b[0m\u001b[1;32m      2\u001b[0m \u001b[0mtodo\u001b[0m\u001b[0;34m=\u001b[0m\u001b[0mtodo\u001b[0m\u001b[0;34m.\u001b[0m\u001b[0mdrop\u001b[0m\u001b[0;34m(\u001b[0m\u001b[0mcolumns\u001b[0m\u001b[0;34m=\u001b[0m\u001b[0;34m[\u001b[0m\u001b[0;34m\"Symbol/ISIN\"\u001b[0m\u001b[0;34m,\u001b[0m\u001b[0;34m\"Valor local\"\u001b[0m\u001b[0;34m,\u001b[0m\u001b[0;34m\"Cantidad\"\u001b[0m\u001b[0;34m,\u001b[0m\u001b[0;34m\"Precio de\"\u001b[0m\u001b[0;34m,\u001b[0m\u001b[0;34m\"Valor en EUR\"\u001b[0m\u001b[0;34m]\u001b[0m\u001b[0;34m)\u001b[0m\u001b[0;34m\u001b[0m\u001b[0;34m\u001b[0m\u001b[0m\n",
      "\u001b[0;32m~/anaconda3/lib/python3.7/site-packages/pandas/io/parsers.py\u001b[0m in \u001b[0;36mparser_f\u001b[0;34m(filepath_or_buffer, sep, delimiter, header, names, index_col, usecols, squeeze, prefix, mangle_dupe_cols, dtype, engine, converters, true_values, false_values, skipinitialspace, skiprows, skipfooter, nrows, na_values, keep_default_na, na_filter, verbose, skip_blank_lines, parse_dates, infer_datetime_format, keep_date_col, date_parser, dayfirst, cache_dates, iterator, chunksize, compression, thousands, decimal, lineterminator, quotechar, quoting, doublequote, escapechar, comment, encoding, dialect, error_bad_lines, warn_bad_lines, delim_whitespace, low_memory, memory_map, float_precision)\u001b[0m\n\u001b[1;32m    674\u001b[0m         )\n\u001b[1;32m    675\u001b[0m \u001b[0;34m\u001b[0m\u001b[0m\n\u001b[0;32m--> 676\u001b[0;31m         \u001b[0;32mreturn\u001b[0m \u001b[0m_read\u001b[0m\u001b[0;34m(\u001b[0m\u001b[0mfilepath_or_buffer\u001b[0m\u001b[0;34m,\u001b[0m \u001b[0mkwds\u001b[0m\u001b[0;34m)\u001b[0m\u001b[0;34m\u001b[0m\u001b[0;34m\u001b[0m\u001b[0m\n\u001b[0m\u001b[1;32m    677\u001b[0m \u001b[0;34m\u001b[0m\u001b[0m\n\u001b[1;32m    678\u001b[0m     \u001b[0mparser_f\u001b[0m\u001b[0;34m.\u001b[0m\u001b[0m__name__\u001b[0m \u001b[0;34m=\u001b[0m \u001b[0mname\u001b[0m\u001b[0;34m\u001b[0m\u001b[0;34m\u001b[0m\u001b[0m\n",
      "\u001b[0;32m~/anaconda3/lib/python3.7/site-packages/pandas/io/parsers.py\u001b[0m in \u001b[0;36m_read\u001b[0;34m(filepath_or_buffer, kwds)\u001b[0m\n\u001b[1;32m    446\u001b[0m \u001b[0;34m\u001b[0m\u001b[0m\n\u001b[1;32m    447\u001b[0m     \u001b[0;31m# Create the parser.\u001b[0m\u001b[0;34m\u001b[0m\u001b[0;34m\u001b[0m\u001b[0;34m\u001b[0m\u001b[0m\n\u001b[0;32m--> 448\u001b[0;31m     \u001b[0mparser\u001b[0m \u001b[0;34m=\u001b[0m \u001b[0mTextFileReader\u001b[0m\u001b[0;34m(\u001b[0m\u001b[0mfp_or_buf\u001b[0m\u001b[0;34m,\u001b[0m \u001b[0;34m**\u001b[0m\u001b[0mkwds\u001b[0m\u001b[0;34m)\u001b[0m\u001b[0;34m\u001b[0m\u001b[0;34m\u001b[0m\u001b[0m\n\u001b[0m\u001b[1;32m    449\u001b[0m \u001b[0;34m\u001b[0m\u001b[0m\n\u001b[1;32m    450\u001b[0m     \u001b[0;32mif\u001b[0m \u001b[0mchunksize\u001b[0m \u001b[0;32mor\u001b[0m \u001b[0miterator\u001b[0m\u001b[0;34m:\u001b[0m\u001b[0;34m\u001b[0m\u001b[0;34m\u001b[0m\u001b[0m\n",
      "\u001b[0;32m~/anaconda3/lib/python3.7/site-packages/pandas/io/parsers.py\u001b[0m in \u001b[0;36m__init__\u001b[0;34m(self, f, engine, **kwds)\u001b[0m\n\u001b[1;32m    878\u001b[0m             \u001b[0mself\u001b[0m\u001b[0;34m.\u001b[0m\u001b[0moptions\u001b[0m\u001b[0;34m[\u001b[0m\u001b[0;34m\"has_index_names\"\u001b[0m\u001b[0;34m]\u001b[0m \u001b[0;34m=\u001b[0m \u001b[0mkwds\u001b[0m\u001b[0;34m[\u001b[0m\u001b[0;34m\"has_index_names\"\u001b[0m\u001b[0;34m]\u001b[0m\u001b[0;34m\u001b[0m\u001b[0;34m\u001b[0m\u001b[0m\n\u001b[1;32m    879\u001b[0m \u001b[0;34m\u001b[0m\u001b[0m\n\u001b[0;32m--> 880\u001b[0;31m         \u001b[0mself\u001b[0m\u001b[0;34m.\u001b[0m\u001b[0m_make_engine\u001b[0m\u001b[0;34m(\u001b[0m\u001b[0mself\u001b[0m\u001b[0;34m.\u001b[0m\u001b[0mengine\u001b[0m\u001b[0;34m)\u001b[0m\u001b[0;34m\u001b[0m\u001b[0;34m\u001b[0m\u001b[0m\n\u001b[0m\u001b[1;32m    881\u001b[0m \u001b[0;34m\u001b[0m\u001b[0m\n\u001b[1;32m    882\u001b[0m     \u001b[0;32mdef\u001b[0m \u001b[0mclose\u001b[0m\u001b[0;34m(\u001b[0m\u001b[0mself\u001b[0m\u001b[0;34m)\u001b[0m\u001b[0;34m:\u001b[0m\u001b[0;34m\u001b[0m\u001b[0;34m\u001b[0m\u001b[0m\n",
      "\u001b[0;32m~/anaconda3/lib/python3.7/site-packages/pandas/io/parsers.py\u001b[0m in \u001b[0;36m_make_engine\u001b[0;34m(self, engine)\u001b[0m\n\u001b[1;32m   1112\u001b[0m     \u001b[0;32mdef\u001b[0m \u001b[0m_make_engine\u001b[0m\u001b[0;34m(\u001b[0m\u001b[0mself\u001b[0m\u001b[0;34m,\u001b[0m \u001b[0mengine\u001b[0m\u001b[0;34m=\u001b[0m\u001b[0;34m\"c\"\u001b[0m\u001b[0;34m)\u001b[0m\u001b[0;34m:\u001b[0m\u001b[0;34m\u001b[0m\u001b[0;34m\u001b[0m\u001b[0m\n\u001b[1;32m   1113\u001b[0m         \u001b[0;32mif\u001b[0m \u001b[0mengine\u001b[0m \u001b[0;34m==\u001b[0m \u001b[0;34m\"c\"\u001b[0m\u001b[0;34m:\u001b[0m\u001b[0;34m\u001b[0m\u001b[0;34m\u001b[0m\u001b[0m\n\u001b[0;32m-> 1114\u001b[0;31m             \u001b[0mself\u001b[0m\u001b[0;34m.\u001b[0m\u001b[0m_engine\u001b[0m \u001b[0;34m=\u001b[0m \u001b[0mCParserWrapper\u001b[0m\u001b[0;34m(\u001b[0m\u001b[0mself\u001b[0m\u001b[0;34m.\u001b[0m\u001b[0mf\u001b[0m\u001b[0;34m,\u001b[0m \u001b[0;34m**\u001b[0m\u001b[0mself\u001b[0m\u001b[0;34m.\u001b[0m\u001b[0moptions\u001b[0m\u001b[0;34m)\u001b[0m\u001b[0;34m\u001b[0m\u001b[0;34m\u001b[0m\u001b[0m\n\u001b[0m\u001b[1;32m   1115\u001b[0m         \u001b[0;32melse\u001b[0m\u001b[0;34m:\u001b[0m\u001b[0;34m\u001b[0m\u001b[0;34m\u001b[0m\u001b[0m\n\u001b[1;32m   1116\u001b[0m             \u001b[0;32mif\u001b[0m \u001b[0mengine\u001b[0m \u001b[0;34m==\u001b[0m \u001b[0;34m\"python\"\u001b[0m\u001b[0;34m:\u001b[0m\u001b[0;34m\u001b[0m\u001b[0;34m\u001b[0m\u001b[0m\n",
      "\u001b[0;32m~/anaconda3/lib/python3.7/site-packages/pandas/io/parsers.py\u001b[0m in \u001b[0;36m__init__\u001b[0;34m(self, src, **kwds)\u001b[0m\n\u001b[1;32m   1889\u001b[0m         \u001b[0mkwds\u001b[0m\u001b[0;34m[\u001b[0m\u001b[0;34m\"usecols\"\u001b[0m\u001b[0;34m]\u001b[0m \u001b[0;34m=\u001b[0m \u001b[0mself\u001b[0m\u001b[0;34m.\u001b[0m\u001b[0musecols\u001b[0m\u001b[0;34m\u001b[0m\u001b[0;34m\u001b[0m\u001b[0m\n\u001b[1;32m   1890\u001b[0m \u001b[0;34m\u001b[0m\u001b[0m\n\u001b[0;32m-> 1891\u001b[0;31m         \u001b[0mself\u001b[0m\u001b[0;34m.\u001b[0m\u001b[0m_reader\u001b[0m \u001b[0;34m=\u001b[0m \u001b[0mparsers\u001b[0m\u001b[0;34m.\u001b[0m\u001b[0mTextReader\u001b[0m\u001b[0;34m(\u001b[0m\u001b[0msrc\u001b[0m\u001b[0;34m,\u001b[0m \u001b[0;34m**\u001b[0m\u001b[0mkwds\u001b[0m\u001b[0;34m)\u001b[0m\u001b[0;34m\u001b[0m\u001b[0;34m\u001b[0m\u001b[0m\n\u001b[0m\u001b[1;32m   1892\u001b[0m         \u001b[0mself\u001b[0m\u001b[0;34m.\u001b[0m\u001b[0munnamed_cols\u001b[0m \u001b[0;34m=\u001b[0m \u001b[0mself\u001b[0m\u001b[0;34m.\u001b[0m\u001b[0m_reader\u001b[0m\u001b[0;34m.\u001b[0m\u001b[0munnamed_cols\u001b[0m\u001b[0;34m\u001b[0m\u001b[0;34m\u001b[0m\u001b[0m\n\u001b[1;32m   1893\u001b[0m \u001b[0;34m\u001b[0m\u001b[0m\n",
      "\u001b[0;32mpandas/_libs/parsers.pyx\u001b[0m in \u001b[0;36mpandas._libs.parsers.TextReader.__cinit__\u001b[0;34m()\u001b[0m\n",
      "\u001b[0;32mpandas/_libs/parsers.pyx\u001b[0m in \u001b[0;36mpandas._libs.parsers.TextReader._setup_parser_source\u001b[0;34m()\u001b[0m\n",
      "\u001b[0;31mFileNotFoundError\u001b[0m: [Errno 2] File 07 02 2019 does not exist: '07 02 2019'"
     ]
    }
   ],
   "source": [
    "todo = pd.read_csv(lista_fechas[1])\n",
    "todo=todo.drop(columns=[\"Symbol/ISIN\",\"Valor local\",\"Cantidad\",\"Precio de\",\"Valor en EUR\"])"
   ]
  },
  {
   "cell_type": "code",
   "execution_count": null,
   "metadata": {},
   "outputs": [],
   "source": [
    "for i in range(len(lista_fechas)):\n",
    "    x = lista_fechas[i]\n",
    "    wh2=pd.read_csv(x, decimal=\",\")\n",
    "    wh2=wh2.drop(columns=[\"Symbol/ISIN\",\"Valor local\",\"Cantidad\",\"Precio de\"])    \n",
    "    b = lista_fechas[i]\n",
    "    objDate = datetime.datetime.strptime(b, '%d %m %Y')\n",
    "    fecha = datetime.datetime.strftime(objDate, '%d %b %Y')\n",
    "    wh2 = wh2.rename(columns={'Valor en EUR':fecha})\n",
    "    todo= pd.merge(todo, wh2, on=\"b'Producto\", how=\"outer\")\n",
    "\n",
    "todoCash = todo.copy()\n"
   ]
  },
  {
   "cell_type": "code",
   "execution_count": null,
   "metadata": {},
   "outputs": [],
   "source": [
    "compras = pd.read_csv(\"Account.csv\", decimal= \",\")\n",
    "listaunica = compras[\"ISIN\"].dropna().unique().tolist()\n"
   ]
  },
  {
   "cell_type": "code",
   "execution_count": null,
   "metadata": {},
   "outputs": [],
   "source": [
    "alex = todo[\"b'Producto\"]\n",
    "alex3 = compras[compras['Descripción'].str.contains(\"alejandro\", regex=False, case=False, na=False)]\n",
    "for x in range(len(listaunica)):\n",
    "    alex2 = compras[compras['ISIN'].str.contains(listaunica[x], regex=False, case=False, na=False)]\n",
    "    alex3 = pd.concat([alex3, alex2])"
   ]
  },
  {
   "cell_type": "code",
   "execution_count": null,
   "metadata": {},
   "outputs": [],
   "source": [
    "alex3comp = alex3[alex3['Descripción'].str.contains(\"Compra\", regex=False, case=False, na=False)]\n",
    "alex3comp = alex3comp[~alex3comp.Descripción.str.contains(\"Conversión\")]\n",
    "alex3comp = alex3comp[~alex3comp.Descripción.str.contains(\"Comisión\")]\n",
    "alex3comp = alex3comp[~alex3comp.Descripción.str.contains(\"SPLIT\")]"
   ]
  },
  {
   "cell_type": "code",
   "execution_count": null,
   "metadata": {},
   "outputs": [],
   "source": [
    "todo=todo.transpose().reset_index()\n",
    "#cambia de labels de las columnas\n",
    "todo.columns = todo.iloc[0]\n",
    "todo = todo.drop(todo.index[0])\n",
    "todo.rename(columns={\"b'Producto\":'Fecha'}, inplace=True)"
   ]
  },
  {
   "cell_type": "code",
   "execution_count": null,
   "metadata": {},
   "outputs": [],
   "source": [
    "todo[\"Fecha\"] =  pd.to_datetime(todo[\"Fecha\"], format='%d %b %Y')"
   ]
  },
  {
   "cell_type": "code",
   "execution_count": null,
   "metadata": {},
   "outputs": [],
   "source": [
    "todosuma=todo.iloc[:,1:]\n",
    "todo[\"suma\"]=todosuma.sum(axis=1)"
   ]
  },
  {
   "cell_type": "code",
   "execution_count": null,
   "metadata": {},
   "outputs": [],
   "source": [
    "alex3comp['Fecha valor'] =  pd.to_datetime(alex3comp['Fecha valor'], format='%d-%m-%Y')\n",
    "\n",
    "alex3comp.rename(columns={\"Fecha\":'Fecha2'}, inplace=True)\n",
    "alex3comp.rename(columns={\"Fecha valor\":'Fecha'}, inplace=True)\n",
    "\n",
    "alex3comp =alex3comp.sort_values(['Fecha'])\n",
    "\n",
    "grafico_anotacion= pd.merge(alex3comp, todo, on=\"Fecha\")\n",
    "\n",
    "grafico_anotacion= grafico_anotacion.drop_duplicates(subset=['ISIN'], keep='first')"
   ]
  },
  {
   "cell_type": "code",
   "execution_count": null,
   "metadata": {},
   "outputs": [],
   "source": [
    "##Ingresos\n",
    "ingresos=pd.read_csv(\"Account.csv\", decimal=\",\")\n",
    "ingresos2 = ingresos[ingresos[\"Descripción\"]== \"Ingreso\"]\n",
    "\n",
    "ingresos2.rename(columns={\"Fecha\":'Fecha2'}, inplace=True)\n",
    "ingresos2.rename(columns={\"Fecha valor\":'Fecha'}, inplace=True)\n",
    "\n",
    "ingresos2['Fecha'] =  pd.to_datetime(ingresos2['Fecha'], format='%d-%m-%Y')\n",
    "#fecha = datetime.datetime.strftime(objDate, '%d %b %Y')\n",
    "ingresos2 = ingresos2.sort_values(['Fecha'])\n",
    "ingresos2[\"sumatotal\"] =np.cumsum(ingresos2[\"Unnamed: 8\"])\n",
    "ingresos2[\"Fecha\"] =  pd.to_datetime(ingresos2[\"Fecha\"], format='%d %b %Y')\n",
    "\n",
    "todosum = todo\n",
    "ingresos3 = ingresos2[['Fecha', 'sumatotal']]\n",
    "todosum = pd.merge(ingresos3, todosum, on=\"Fecha\", how=\"outer\")\n",
    "todosum = todosum.sort_values(['Fecha'])\n",
    "todosum.sumatotal = todosum.sumatotal.fillna(method='ffill')\n",
    "todosum[\"rentabilidad\"]= (todosum[\"suma\"]-todosum[\"sumatotal\"])*100/todosum[\"sumatotal\"]\n"
   ]
  },
  {
   "cell_type": "code",
   "execution_count": null,
   "metadata": {},
   "outputs": [],
   "source": [
    "#plt.style.use('ggplot')\n",
    "plt.figure(figsize=(15,10))\n",
    "plt.plot(todo[\"Fecha\"], todo[\"suma\"], label =\"Valor acciones\")\n",
    "plt.plot(todosum[\"Fecha\"], todosum[\"sumatotal\"], label = \"Aportaciones\")\n",
    "#plt.xticks(todo.Fecha[::20])\n",
    "\n",
    "plt.legend(fontsize=\"large\", shadow= True)\n",
    "plt.rcParams.update({'font.size': 14})\n",
    "plt.grid(True)\n",
    "plt.xlabel(\"Year\")\n",
    "plt.ylabel(\"€\")\n",
    "\n",
    "plt.show()"
   ]
  },
  {
   "cell_type": "code",
   "execution_count": null,
   "metadata": {},
   "outputs": [],
   "source": [
    "grafico_anotacion[\"suma\"].iloc[1]"
   ]
  },
  {
   "cell_type": "code",
   "execution_count": null,
   "metadata": {},
   "outputs": [],
   "source": [
    "fig_2, axes = plt.subplots(1,1, figsize=(15,10))\n",
    "\n",
    "axes.plot(todo[\"Fecha\"], todo[\"suma\"], label =\"Valor acciones\")\n",
    "axes.plot(todosum[\"Fecha\"], todosum[\"sumatotal\"], label = \"Aportaciones\")\n",
    "axes = plt.grid(True)\n",
    "plt.rcParams.update({'font.size': 9})\n",
    "\n",
    "for i in range(grafico_anotacion.shape[0]):\n",
    "    a= 100+i*15\n",
    "    plt.annotate(grafico_anotacion.iloc[i,3], xy=(grafico_anotacion.iloc[i,2], grafico_anotacion[\"suma\"].iloc[i]),  xycoords='data',\n",
    "                xytext=(80, a), textcoords='figure points',\n",
    "                arrowprops=dict(arrowstyle=\"->\"))\n",
    "\n",
    "plt.legend(fontsize=\"large\", shadow= True)    \n",
    "plt.xlabel(\"Year\")\n",
    "plt.ylabel(\"€\")    \n",
    "    \n",
    "plt.show()"
   ]
  },
  {
   "cell_type": "code",
   "execution_count": null,
   "metadata": {
    "scrolled": true
   },
   "outputs": [],
   "source": [
    "plt.figure(figsize=(15,10))\n",
    "plt.plot(todosum[\"Fecha\"], todosum[\"rentabilidad\"], label =\"Rentabilidad\")\n",
    "\n",
    "plt.legend(fontsize=\"large\", shadow= True)\n",
    "plt.rcParams.update({'font.size': 12})\n",
    "plt.grid(True)\n",
    "plt.xlabel(\"Year\")\n",
    "plt.ylabel(\"%\")\n",
    "\n",
    "plt.show()"
   ]
  },
  {
   "cell_type": "code",
   "execution_count": null,
   "metadata": {},
   "outputs": [],
   "source": [
    "todostack = todo.drop(\"suma\", axis=1)\n",
    "todostack = todostack.drop(\"'\", axis=1)\n",
    "todostack = todostack.fillna(0)\n",
    "nombres = todostack.columns.tolist()\n",
    "nombres = nombres[1:]\n",
    "fig = plt.figure(figsize=(15,10))\n",
    "ax = fig.add_subplot(1,1,1)\n",
    "\n",
    "labels = nombres\n",
    "\n",
    "\n",
    "ax.stackplot(todostack['Fecha'], todostack.iloc[:,1:].T, labels = nombres)\n",
    "\n",
    "plt.legend(loc='upper left')\n",
    "\n",
    "plt.show()"
   ]
  },
  {
   "cell_type": "markdown",
   "metadata": {},
   "source": [
    "# Create some mock data\n",
    "Fecha1 = todo[\"Fecha\"]\n",
    "Suma1 = todo[\"suma\"]\n",
    "Fecha2 = todosum[\"Fecha\"]\n",
    "Sumatotal1 = todosum[\"sumatotal\"]\n",
    "rentabilidad1 = todosum[\"rentabilidad\"]\n",
    "\n",
    "plt.figure(figsize=(15,10))\n",
    "fig, ax1 = plt.subplots()\n",
    "color = 'tab:red'\n",
    "ax1.set_xlabel('Año')\n",
    "ax1.set_ylabel('€', color=color)\n",
    "ax1.plot(Fecha1, Suma1, color=color)\n",
    "ax1.tick_params(axis='y', labelcolor=color)\n",
    "\n",
    "\n",
    "ax2 = ax1.twinx()  # instantiate a second axes that shares the same x-axis\n",
    "\n",
    "color = 'tab:blue'\n",
    "ax2.set_ylabel('sin', color=color)  # we already handled the x-label with ax1\n",
    "ax2.plot(Fecha1, rentabilidad1, color=color)\n",
    "ax2.tick_params(axis='y', labelcolor=color)\n",
    "\n",
    "fig.tight_layout()  # otherwise the right y-label is slightly clipped\n",
    "plt.show()"
   ]
  },
  {
   "cell_type": "markdown",
   "metadata": {},
   "source": [
    "from bokeh.plotting import figure, output_file, show \n",
    "\n",
    "#file to save the model \n",
    "output_file(\"hola.html\") \n",
    " \n",
    "# instantiating the figure object \n",
    "graph = figure(title = \"Beneficios\") \n",
    "  \n",
    "# name of the x-axis \n",
    "graph.xaxis.axis_label = \"Fecha\"\n",
    "  \n",
    "# name of the y-axis \n",
    "graph.yaxis.axis_label = \"€\"\n",
    "  \n",
    "# plotting line 1 \n",
    "line_color = \"red\"\n",
    "line_dash = \"solid\"\n",
    "legend_label = \"Line 1\"\n",
    "  \n",
    "# plotting the line \n",
    "graph.line(todo[\"Fecha\"], todo[\"suma\"], \n",
    "           line_color = line_color, \n",
    "           line_dash = line_dash, \n",
    "           legend_label = legend_label) \n",
    "  \n",
    "# plotting line 2 \n",
    "line_color = \"green\"\n",
    "line_dash = \"dotdash\"\n",
    "line_dash_offset = 1\n",
    "legend_label = \"Line 2\"\n",
    "  \n",
    "# plotting the line \n",
    "graph.line(todosum[\"Fecha\"], todosum[\"sumatotal\"], \n",
    "           line_color = line_color, \n",
    "           line_dash = line_dash, \n",
    "           line_dash_offset = line_dash_offset, \n",
    "           legend_label = legend_label) \n",
    "   \n",
    "# displaying the model \n",
    "show(graph) "
   ]
  },
  {
   "cell_type": "markdown",
   "metadata": {},
   "source": [
    "#Cantidad\n",
    "todo2 = pd.read_csv(lista_fechas[1])\n",
    "todo2=todo2.drop(columns=[\"Symbol/ISIN\",\"Valor local\",\"Cantidad\",\"Precio de\",\"Valor en EUR\"])\n",
    "for i in range(len(lista_fechas)):\n",
    "    x = lista_fechas[i]\n",
    "    wh2=pd.read_csv(x, decimal=\",\")\n",
    "    wh2=wh2.drop(columns=[\"Symbol/ISIN\",\"Valor local\",\"Precio de\",\"Valor en EUR\"])    \n",
    "    b = lista_fechas[i]\n",
    "    objDate = datetime.datetime.strptime(b, '%d %m %Y')\n",
    "    fecha = datetime.datetime.strftime(objDate, '%d %b %Y')\n",
    "    wh2 = wh2.rename(columns={'Cantidad':fecha})\n",
    "\n",
    "    todo2= pd.merge(todo2, wh2, on=\"b'Producto\", how=\"outer\")\n",
    "todo2.set_index(\"b'Producto\", inplace =True)\n",
    "todo2= todo2.diff(axis=1)\n",
    "todo2 = todo2.replace(0,np.NaN)\n",
    "todo2 = todo2.dropna(axis=1, how='all')\n",
    "todo2"
   ]
  }
 ],
 "metadata": {
  "kernelspec": {
   "display_name": "Python 3",
   "language": "python",
   "name": "python3"
  },
  "language_info": {
   "codemirror_mode": {
    "name": "ipython",
    "version": 3
   },
   "file_extension": ".py",
   "mimetype": "text/x-python",
   "name": "python",
   "nbconvert_exporter": "python",
   "pygments_lexer": "ipython3",
   "version": "3.7.6"
  }
 },
 "nbformat": 4,
 "nbformat_minor": 4
}
