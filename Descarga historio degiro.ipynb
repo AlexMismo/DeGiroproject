{
 "cells": [
  {
   "cell_type": "code",
   "execution_count": 1,
   "metadata": {},
   "outputs": [],
   "source": [
    "from urllib import request\n",
    "import pandas as pd\n",
    "import datetime\n"
   ]
  },
  {
   "cell_type": "code",
   "execution_count": 1,
   "metadata": {},
   "outputs": [
    {
     "ename": "NameError",
     "evalue": "name 'datetime' is not defined",
     "output_type": "error",
     "traceback": [
      "\u001b[0;31m---------------------------------------------------------------------------\u001b[0m",
      "\u001b[0;31mNameError\u001b[0m                                 Traceback (most recent call last)",
      "\u001b[0;32m<ipython-input-1-369c437d1e50>\u001b[0m in \u001b[0;36m<module>\u001b[0;34m\u001b[0m\n\u001b[1;32m      2\u001b[0m \u001b[0;31m## Cambiar iniicio y fin entre las fechas que deseas descargar los datos.\u001b[0m\u001b[0;34m\u001b[0m\u001b[0;34m\u001b[0m\u001b[0;34m\u001b[0m\u001b[0m\n\u001b[1;32m      3\u001b[0m \u001b[0;34m\u001b[0m\u001b[0m\n\u001b[0;32m----> 4\u001b[0;31m \u001b[0minicio\u001b[0m \u001b[0;34m=\u001b[0m \u001b[0mdatetime\u001b[0m\u001b[0;34m.\u001b[0m\u001b[0mdatetime\u001b[0m\u001b[0;34m(\u001b[0m\u001b[0;36m2019\u001b[0m\u001b[0;34m,\u001b[0m\u001b[0;36m2\u001b[0m\u001b[0;34m,\u001b[0m\u001b[0;36m6\u001b[0m\u001b[0;34m)\u001b[0m\u001b[0;34m\u001b[0m\u001b[0;34m\u001b[0m\u001b[0m\n\u001b[0m\u001b[1;32m      5\u001b[0m \u001b[0mfin\u001b[0m    \u001b[0;34m=\u001b[0m \u001b[0mdatetime\u001b[0m\u001b[0;34m.\u001b[0m\u001b[0mdatetime\u001b[0m\u001b[0;34m(\u001b[0m\u001b[0;36m2020\u001b[0m\u001b[0;34m,\u001b[0m\u001b[0;36m9\u001b[0m\u001b[0;34m,\u001b[0m\u001b[0;36m4\u001b[0m\u001b[0;34m)\u001b[0m\u001b[0;34m\u001b[0m\u001b[0;34m\u001b[0m\u001b[0m\n\u001b[1;32m      6\u001b[0m \u001b[0;34m\u001b[0m\u001b[0m\n",
      "\u001b[0;31mNameError\u001b[0m: name 'datetime' is not defined"
     ]
    }
   ],
   "source": [
    "## Descargar manualmente: Degiro -> Actividad -> Estado de cuenta. \n",
    "    ##Buscar una fecha antes del primer ingreso, y exportar en .csv \n",
    "    \n",
    "## Cambiar las siguientes variables (inicio y fin) entre las fechas que deseas descargar los datos, que inicio \n",
    "    ##coincida con el dia del primer ingreso.\n",
    "## Introducir la url de de degiro de descarga de .csv de la cartera. en la variable web eliminando la fecha del\n",
    "    ##final a partir de Date=...\n",
    "    \n",
    "inicio = datetime.datetime(2019,2,6) \n",
    "fin    = datetime.datetime(2020,9,4)\n",
    "\n",
    "lista_fechas = [(inicio + datetime.timedelta(days=d)).strftime(\"%d %m %Y\")\n",
    "                    for d in range((fin - inicio).days + 1)]\n",
    "\n",
    "new_list = []\n",
    "\n",
    "for x in lista_fechas:\n",
    "    new_list.append(x.replace(\" \",\"%2F\"))\n",
    "    \n",
    "web =\"https://trader.degiro.nl/reporting/secure/v3/positionReport/csv?intAccount=51028808&sessionId=A46842E3B920BEB5F73FF68EF8074E2F.prod_a_113_3&country=ES&lang=es&toDate=\"\n",
    "\n",
    "final= [web + x for x in new_list]"
   ]
  },
  {
   "cell_type": "code",
   "execution_count": 3,
   "metadata": {},
   "outputs": [],
   "source": [
    "def download_stock_data(csv_url, nombre):\n",
    "    response = request.urlopen(csv_url)\n",
    "    csv = response.read()\n",
    "    csv_str = str(csv)\n",
    "    lines = csv_str.split(\"\\\\n\")\n",
    "    fx = open(nombre, \"w\")\n",
    "    for line in lines:\n",
    "        fx.write(line + \"\\n\")\n",
    "    fx.close()\n",
    "\n",
    "    \n",
    "for i in range(len(final)):\n",
    "        download_stock_data(final[i], lista_fechas[i])"
   ]
  }
 ],
 "metadata": {
  "kernelspec": {
   "display_name": "Python 3",
   "language": "python",
   "name": "python3"
  },
  "language_info": {
   "codemirror_mode": {
    "name": "ipython",
    "version": 3
   },
   "file_extension": ".py",
   "mimetype": "text/x-python",
   "name": "python",
   "nbconvert_exporter": "python",
   "pygments_lexer": "ipython3",
   "version": "3.7.6"
  }
 },
 "nbformat": 4,
 "nbformat_minor": 4
}
